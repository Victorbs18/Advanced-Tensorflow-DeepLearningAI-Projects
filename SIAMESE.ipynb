{
  "nbformat": 4,
  "nbformat_minor": 0,
  "metadata": {
    "colab": {
      "provenance": []
    },
    "kernelspec": {
      "name": "python3",
      "display_name": "Python 3"
    },
    "language_info": {
      "name": "python"
    }
  },
  "cells": [
    {
      "cell_type": "markdown",
      "source": [
        "## SIAMESE NETWORK"
      ],
      "metadata": {
        "id": "HASRoJOwZQ9u"
      }
    },
    {
      "cell_type": "markdown",
      "source": [
        "#### Import libraries"
      ],
      "metadata": {
        "id": "epYHf0hjZVeH"
      }
    },
    {
      "cell_type": "code",
      "execution_count": 1,
      "metadata": {
        "id": "vfI8BcpEY9_t"
      },
      "outputs": [],
      "source": [
        "import tensorflow as tf\n",
        "from tensorflow.keras import layers, models\n",
        "import numpy as np\n",
        "from sklearn.model_selection import train_test_split\n",
        "import matplotlib.pyplot as plt\n"
      ]
    },
    {
      "cell_type": "markdown",
      "source": [
        "#### Load Data (MNIST)"
      ],
      "metadata": {
        "id": "BYjEVkwOZZI9"
      }
    },
    {
      "cell_type": "code",
      "source": [
        "(train_images, train_labels), (test_images, test_labels) = tf.keras.datasets.fashion_mnist.load_data()"
      ],
      "metadata": {
        "colab": {
          "base_uri": "https://localhost:8080/"
        },
        "id": "cvmjwAuDZDsI",
        "outputId": "42225588-59de-4891-d6fc-801382992070"
      },
      "execution_count": 2,
      "outputs": [
        {
          "output_type": "stream",
          "name": "stdout",
          "text": [
            "Downloading data from https://storage.googleapis.com/tensorflow/tf-keras-datasets/train-labels-idx1-ubyte.gz\n",
            "29515/29515 [==============================] - 0s 0us/step\n",
            "Downloading data from https://storage.googleapis.com/tensorflow/tf-keras-datasets/train-images-idx3-ubyte.gz\n",
            "26421880/26421880 [==============================] - 0s 0us/step\n",
            "Downloading data from https://storage.googleapis.com/tensorflow/tf-keras-datasets/t10k-labels-idx1-ubyte.gz\n",
            "5148/5148 [==============================] - 0s 0us/step\n",
            "Downloading data from https://storage.googleapis.com/tensorflow/tf-keras-datasets/t10k-images-idx3-ubyte.gz\n",
            "4422102/4422102 [==============================] - 0s 0us/step\n"
          ]
        }
      ]
    },
    {
      "cell_type": "code",
      "source": [
        "# Normalize the images to the range [0, 1]\n",
        "train_images = train_images / 255.0\n",
        "test_images = test_images / 255.0"
      ],
      "metadata": {
        "id": "ZB6Fgl-0ZDyl"
      },
      "execution_count": 3,
      "outputs": []
    },
    {
      "cell_type": "code",
      "source": [
        "# Split the training data into training and validation sets\n",
        "train_images, val_images, train_labels, val_labels = train_test_split(train_images, train_labels, test_size=0.2, random_state=42)"
      ],
      "metadata": {
        "id": "jB_5OtYNZD2A"
      },
      "execution_count": 4,
      "outputs": []
    },
    {
      "cell_type": "markdown",
      "source": [
        "#### Neural Network Definition"
      ],
      "metadata": {
        "id": "JWnAe4E-ZRA3"
      }
    },
    {
      "cell_type": "code",
      "source": [
        "# Define the input shape\n",
        "input_shape = (28, 28, 1)\n",
        "\n",
        "# Create the base neural network model using the Functional API\n",
        "inputs = layers.Input(shape=input_shape)\n",
        "x = layers.Conv2D(32, (3, 3), activation='relu')(inputs)\n",
        "x = layers.MaxPooling2D((2, 2))(x)\n",
        "x = layers.Conv2D(64, (3, 3), activation='relu')(x)\n",
        "x = layers.MaxPooling2D((2, 2))(x)\n",
        "x = layers.Conv2D(64, (3, 3), activation='relu')(x)\n",
        "x = layers.Flatten()(x)\n",
        "x = layers.Dense(64, activation='relu')(x)\n",
        "outputs = layers.Dense(10, activation='softmax')(x)\n",
        "\n",
        "base_model = models.Model(inputs, outputs)"
      ],
      "metadata": {
        "id": "b2CCEPlPZD5F"
      },
      "execution_count": 5,
      "outputs": []
    },
    {
      "cell_type": "markdown",
      "source": [
        "#### Compile and train the model"
      ],
      "metadata": {
        "id": "ZEeBO-VYZREh"
      }
    },
    {
      "cell_type": "code",
      "source": [
        "# Compile the model\n",
        "base_model.compile(optimizer='adam',\n",
        "                   loss='sparse_categorical_crossentropy',\n",
        "                   metrics=['accuracy'])\n",
        "\n",
        "# Train the model\n",
        "history = base_model.fit(train_images, train_labels, epochs=10, validation_data=(val_images, val_labels))\n"
      ],
      "metadata": {
        "colab": {
          "base_uri": "https://localhost:8080/"
        },
        "id": "L1arwdKdZ9bA",
        "outputId": "b7511077-60cd-4a45-9b6a-8accefcd8627"
      },
      "execution_count": 6,
      "outputs": [
        {
          "output_type": "stream",
          "name": "stdout",
          "text": [
            "Epoch 1/10\n",
            "1500/1500 [==============================] - 53s 34ms/step - loss: 0.5222 - accuracy: 0.8096 - val_loss: 0.4096 - val_accuracy: 0.8471\n",
            "Epoch 2/10\n",
            "1500/1500 [==============================] - 50s 34ms/step - loss: 0.3406 - accuracy: 0.8752 - val_loss: 0.3439 - val_accuracy: 0.8744\n",
            "Epoch 3/10\n",
            "1500/1500 [==============================] - 49s 33ms/step - loss: 0.2925 - accuracy: 0.8930 - val_loss: 0.3159 - val_accuracy: 0.8868\n",
            "Epoch 4/10\n",
            "1500/1500 [==============================] - 50s 33ms/step - loss: 0.2621 - accuracy: 0.9046 - val_loss: 0.2764 - val_accuracy: 0.8999\n",
            "Epoch 5/10\n",
            "1500/1500 [==============================] - 50s 34ms/step - loss: 0.2361 - accuracy: 0.9132 - val_loss: 0.2685 - val_accuracy: 0.9007\n",
            "Epoch 6/10\n",
            "1500/1500 [==============================] - 49s 33ms/step - loss: 0.2137 - accuracy: 0.9216 - val_loss: 0.2675 - val_accuracy: 0.9035\n",
            "Epoch 7/10\n",
            "1500/1500 [==============================] - 49s 33ms/step - loss: 0.1938 - accuracy: 0.9281 - val_loss: 0.2758 - val_accuracy: 0.9041\n",
            "Epoch 8/10\n",
            "1500/1500 [==============================] - 49s 32ms/step - loss: 0.1768 - accuracy: 0.9344 - val_loss: 0.2683 - val_accuracy: 0.9060\n",
            "Epoch 9/10\n",
            "1500/1500 [==============================] - 47s 32ms/step - loss: 0.1632 - accuracy: 0.9393 - val_loss: 0.2877 - val_accuracy: 0.8991\n",
            "Epoch 10/10\n",
            "1500/1500 [==============================] - 49s 33ms/step - loss: 0.1467 - accuracy: 0.9453 - val_loss: 0.2714 - val_accuracy: 0.9072\n"
          ]
        }
      ]
    },
    {
      "cell_type": "markdown",
      "source": [
        "#### Euclidean Distance"
      ],
      "metadata": {
        "id": "s9oudcM_b_S5"
      }
    },
    {
      "cell_type": "code",
      "source": [
        "# Create an embedding model\n",
        "embedding_model = models.Model(inputs=base_model.input, outputs=base_model.layers[-2].output)\n",
        "\n",
        "# Get embeddings for the test images\n",
        "test_embeddings = embedding_model.predict(test_images)\n",
        "\n",
        "# Function to calculate Euclidean distance\n",
        "def euclidean_distance(a, b):\n",
        "    return np.sqrt(np.sum(np.square(a - b)))\n",
        "\n",
        "# Example: Calculate Euclidean distance between the first two test embeddings\n",
        "distance = euclidean_distance(test_embeddings[0], test_embeddings[1])\n",
        "print(f'Euclidean distance between first two test images: {distance}')\n",
        "\n"
      ],
      "metadata": {
        "colab": {
          "base_uri": "https://localhost:8080/"
        },
        "id": "yOIssmrAb-K5",
        "outputId": "8e66ae26-b96d-4b0a-8cb0-83d72384dff8"
      },
      "execution_count": 8,
      "outputs": [
        {
          "output_type": "stream",
          "name": "stdout",
          "text": [
            "313/313 [==============================] - 4s 11ms/step\n",
            "Euclidean distance between first two test images: 20.239852905273438\n"
          ]
        }
      ]
    },
    {
      "cell_type": "code",
      "source": [
        "# Create an embedding model\n",
        "embedding_model = models.Model(inputs=base_model.input, outputs=base_model.layers[-2].output)\n",
        "\n",
        "# Get embeddings for the test images\n",
        "test_embeddings = embedding_model.predict(test_images)\n",
        "\n",
        "# Function to calculate Euclidean distance\n",
        "def euclidean_distance(a, b):\n",
        "    return np.sqrt(np.sum(np.square(a - b)))\n",
        "\n",
        "# Calculate Euclidean distances for each pair of images in the test set: 1-2, 3-4, 5-6, etc.\n",
        "distances = []\n",
        "labels = []\n",
        "predicted_labels = []\n",
        "for i in range(0, len(test_embeddings), 2):\n",
        "    if i + 1 < len(test_embeddings):\n",
        "        distance = euclidean_distance(test_embeddings[i], test_embeddings[i + 1])\n",
        "        distances.append(distance)\n",
        "        actual_label = test_labels[i] == test_labels[i + 1]\n",
        "        labels.append(actual_label)\n",
        "        predicted_label = distance < np.mean(distances)  # Binary classification based on distance threshold\n",
        "        predicted_labels.append(predicted_label)\n",
        "\n",
        "# Calculate general accuracy\n",
        "accuracy = np.mean(np.array(predicted_labels) == np.array(labels))\n",
        "print(f'General accuracy based on distance threshold: {accuracy:.2f}')\n",
        "\n",
        "# Function to plot pairs of images with their Euclidean distances\n",
        "def plot_pairs_with_distances(images, distances, n=10):\n",
        "    plt.figure(figsize=(12, 4))\n",
        "    for i in range(n):\n",
        "        idx = i * 2\n",
        "        plt.subplot(2, n, i + 1)\n",
        "        plt.imshow(images[idx].squeeze(), cmap='gray')\n",
        "        plt.axis('off')\n",
        "\n",
        "        plt.subplot(2, n, n + i + 1)\n",
        "        plt.imshow(images[idx + 1].squeeze(), cmap='gray')\n",
        "        plt.title(f'Distance: {distances[i]:.2f}',fontsize=8)\n",
        "        plt.axis('off')\n",
        "    plt.tight_layout()\n",
        "    plt.show()\n",
        "\n",
        "# Plot the first 10 pairs of images with their distances\n",
        "plot_pairs_with_distances(test_images, distances, n=10)"
      ],
      "metadata": {
        "colab": {
          "base_uri": "https://localhost:8080/",
          "height": 345
        },
        "id": "YnOiDDNKeGN0",
        "outputId": "03316632-0cee-4551-a1da-7b10fcf543f7"
      },
      "execution_count": 13,
      "outputs": [
        {
          "output_type": "stream",
          "name": "stdout",
          "text": [
            "313/313 [==============================] - 7s 20ms/step\n",
            "General accuracy based on distance threshold: 0.61\n"
          ]
        },
        {
          "output_type": "display_data",
          "data": {
            "text/plain": [
              "<Figure size 1200x400 with 20 Axes>"
            ],
            "image/png": "[encoded data removed]"
          },
          "metadata": {}
        }
      ]
    }
  ]
}